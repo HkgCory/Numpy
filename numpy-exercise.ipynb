{
 "cells": [
  {
   "cell_type": "code",
   "execution_count": null,
   "metadata": {},
   "outputs": [],
   "source": []
  }
 ],
 "metadata": {
  "kernelspec": {
   "display_name": "base",
   "language": "python",
   "name": "python3"
  },
  "language_info": {
   "name": "python",
   "version": "3.10.9"
  },
  "orig_nbformat": 4,
  "vscode": {
   "interpreter": {
    "hash": "e56e46eabab7f74ddcf989bb94a0907ea62ff9754181a0fbe08f60591df055b1"
   }
  }
 },
 "nbformat": 4,
 "nbformat_minor": 2
}
